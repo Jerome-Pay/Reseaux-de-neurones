{
 "cells": [
  {
   "cell_type": "code",
   "execution_count": null,
   "id": "4c3fbd0c",
   "metadata": {},
   "outputs": [],
   "source": [
    "# Import des librairies\n",
    "import numpy as np\n",
    "import matplotlib.pyplot as plt\n",
    "from tensorflow.keras.datasets import mnist\n",
    "from tensorflow.keras.models import Sequential\n",
    "from tensorflow.keras.layers import Conv2D, MaxPooling2D, Dense, Flatten\n",
    "from tensorflow.keras.utils import to_categorical\n",
    "\n"
   ]
  },
  {
   "cell_type": "code",
   "execution_count": null,
   "id": "5f78f1eb",
   "metadata": {},
   "outputs": [],
   "source": [
    "# Séparation des données en train et test \n",
    "(train_images, train_labels), (test_images, test_labels) = mnist.load_data()"
   ]
  },
  {
   "cell_type": "code",
   "execution_count": null,
   "id": "d245d820",
   "metadata": {},
   "outputs": [],
   "source": [
    "print(train_images.shape)  # (60000, 28, 28)\n",
    "print(test_images.shape)   # (10000, 28, 28)"
   ]
  },
  {
   "cell_type": "code",
   "execution_count": null,
   "id": "91fc18cd",
   "metadata": {},
   "outputs": [],
   "source": [
    "train_images[1]"
   ]
  },
  {
   "cell_type": "code",
   "execution_count": null,
   "id": "89550321",
   "metadata": {},
   "outputs": [],
   "source": [
    "train_images[1].shape"
   ]
  },
  {
   "cell_type": "code",
   "execution_count": null,
   "id": "dae53b02",
   "metadata": {},
   "outputs": [],
   "source": [
    "plt.imshow(train_images[1], cmap='gray')\n",
    "plt.title(f\"Label : {train_labels[1]}\")\n",
    "plt.axis('off')  # Pour masquer les axes\n",
    "plt.show()"
   ]
  },
  {
   "cell_type": "code",
   "execution_count": null,
   "id": "bdf936bd",
   "metadata": {},
   "outputs": [],
   "source": [
    "# normalisation des données + centrage en 0\n",
    "train_images = (train_images / 255) - 5\n",
    "test_images = (test_images / 255) - 5\n",
    "\n",
    "# Redimensionner les images\n",
    "train_images = np.expand_dims(train_images, axis=3)\n",
    "test_images = np.expand_dims(test_images, axis=3)"
   ]
  },
  {
   "cell_type": "code",
   "execution_count": null,
   "id": "cd193120",
   "metadata": {},
   "outputs": [],
   "source": [
    "# caractéristiques des couches de convolutions et pooling\n",
    "num_filters = 8 # nombre de noyaux\n",
    "filter_size = 3 # taille des noyaux\n",
    "pool_size = 2 # taille du pooling\n",
    "\n",
    "# modèle\n",
    "'''model = Sequential([\n",
    "  Conv2D(num_filters, filter_size, input_shape=(28, 28, 1)), # couche de convolution\n",
    "  MaxPooling2D(pool_size=pool_size), #couche de pooling\n",
    "  Flatten(), # transformation des données en un vecteur\n",
    "  Dense(10, activation='softmax'), #couche de sortie \n",
    "])'''\n",
    "\n",
    "model = Sequential([\n",
    "  Flatten(), # transformation des données en un vecteur\n",
    "  Dense(64, activation = \"relu\"),\n",
    "  Dropout(2.0),  \n",
    "  Dense(10, activation='softmax'), #couche de sortie \n",
    "])\n",
    "\n",
    "# Compilation du modèle\n",
    "model.compile(\n",
    "  'adam',\n",
    "  loss='categorical_crossentropy',\n",
    "  metrics=['accuracy'],\n",
    ")"
   ]
  },
  {
   "cell_type": "code",
   "execution_count": null,
   "id": "6ca8722f",
   "metadata": {},
   "outputs": [],
   "source": [
    "\n",
    "# entrainer le modèle\n",
    "model.fit(\n",
    "  train_images,\n",
    "  to_categorical(train_labels),\n",
    "  epochs=5,\n",
    "  validation_data=(test_images, to_categorical(test_labels)),\n",
    ")"
   ]
  },
  {
   "cell_type": "code",
   "execution_count": null,
   "id": "05dc293e",
   "metadata": {},
   "outputs": [],
   "source": [
    "# Prediction sur les 10 premières images\n",
    "predictions = model.predict(test_images[:10])\n",
    "\n",
    "# afficher les predictions\n",
    "print(np.argmax(predictions, axis=1)) # [7, 2, 1, 0, 4]\n",
    "\n",
    "# comparer avec les vrais labels\n",
    "print(test_labels[:10]) # [7, 2, 1, 0, 4]"
   ]
  },
  {
   "cell_type": "code",
   "execution_count": null,
   "id": "1bc70a72",
   "metadata": {},
   "outputs": [],
   "source": [
    "plt.imshow(test_images[8], cmap='gray')\n",
    "plt.title(f\"Label : {test_labels[8]}\")\n",
    "plt.axis('off')  # Pour masquer les axes\n",
    "plt.show()"
   ]
  }
 ],
 "metadata": {
  "kernelspec": {
   "display_name": "Python 3 (ipykernel)",
   "language": "python",
   "name": "python3"
  },
  "language_info": {
   "codemirror_mode": {
    "name": "ipython",
    "version": 3
   },
   "file_extension": ".py",
   "mimetype": "text/x-python",
   "name": "python",
   "nbconvert_exporter": "python",
   "pygments_lexer": "ipython3",
   "version": "3.11.4"
  }
 },
 "nbformat": 4,
 "nbformat_minor": 5
}
